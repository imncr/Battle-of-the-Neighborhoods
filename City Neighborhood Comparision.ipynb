{
 "cells": [
  {
   "cell_type": "markdown",
   "metadata": {},
   "source": [
    "# Capstone Project: Battle of the Neighborhoods"
   ]
  },
  {
   "cell_type": "markdown",
   "metadata": {},
   "source": [
    "## Table of Contents"
   ]
  },
  {
   "cell_type": "markdown",
   "metadata": {},
   "source": [
    "* [Introduction](#introduction)\n",
    "* [Data](#data)\n",
    "* [Methodology](#methodology)\n",
    "* [Analysis](#analysis)\n",
    "* [Results](#results)\n",
    "* [Conclusion](#conclusion)"
   ]
  },
  {
   "cell_type": "markdown",
   "metadata": {},
   "source": [
    "## Introduction <a name=\"introduction\"></a>"
   ]
  },
  {
   "cell_type": "markdown",
   "metadata": {},
   "source": [
    "The aim of this project is to compare the cities of New York, NY, USA and Toronto, ON, Canada.  Specifically by comparing neighborhoods <br>\n",
    "between two cities to see which are most similar to each other. <br>\n",
    "<br>\n",
    "This can be done by clustering the neighborhoods in the respective cities, New York and Toronto, showing which neighborhoods are most alike <br>\n",
    "and which are most dissimilar.  Such analysis could be used by businesses, such as restaurants, that see success in one city and are looking <br>\n",
    "to expand to the other city.  For example, if an italian restaurant in Toronto was looking to open a new location in New York the knowledge of <br>\n",
    "which neighoborhoods in New York are most similar to those in Toronto would improve the chances of the new location succeeding. <br>\n",
    "<br>\n",
    "By implementing machine learning methods we will measure the similarities between neighborhoods.  By doing so the most similar neighborhoods <br>\n",
    "in both cities will be grouped and clearly displayed."
   ]
  },
  {
   "cell_type": "markdown",
   "metadata": {},
   "source": [
    "## Data <a name=\"data\"></a>"
   ]
  },
  {
   "cell_type": "markdown",
   "metadata": {},
   "source": [
    "In order to solve the problem previously put forward, we will need the following for New York and Toronto:\n",
    "* Geographic data of the neighborhoods \n",
    "* The number of different types of venues in each neighborhood\n",
    "\n",
    "\n",
    "The sources of data to be used are the following:\n",
    "\n",
    "* https://en.wikipedia.org/wiki/List_of_postal_codes_of_Canada:_M (A table of postal codes and neighborhoods in Toronto)\n",
    "* Geospatial_Coordinates.csv (A csv of the latitude and longitude of postal codes in Toronto)\n",
    "* newyork_data.json (A json file of New York neighborhood latitude and longitude data)\n",
    "* Foursquare API (To obtain the number of venues in each neighborhood)"
   ]
  },
  {
   "cell_type": "markdown",
   "metadata": {},
   "source": [
    "### Imports "
   ]
  },
  {
   "cell_type": "code",
   "execution_count": 1,
   "metadata": {},
   "outputs": [],
   "source": [
    "import pandas as pd\n",
    "pd.set_option('display.max_columns', None)\n",
    "pd.set_option('display.max_rows', None)\n",
    "import numpy as np\n",
    "import json\n",
    "from geopy.geocoders import Nominatim\n",
    "import requests\n",
    "from pandas.io.json import json_normalize\n",
    "import matplotlib.cm as cm\n",
    "import matplotlib.colors as colors\n",
    "from sklearn.cluster import KMeans\n",
    "import folium"
   ]
  },
  {
   "cell_type": "markdown",
   "metadata": {},
   "source": [
    "## Methodology <a name=\"methodology\"></a>"
   ]
  },
  {
   "cell_type": "markdown",
   "metadata": {},
   "source": [
    "## Analysis <a name=\"analysis\"></a>"
   ]
  },
  {
   "cell_type": "markdown",
   "metadata": {},
   "source": [
    "## Results <a name=\"results\"></a>"
   ]
  },
  {
   "cell_type": "markdown",
   "metadata": {},
   "source": [
    "## Conclusion <a name=\"conclusion\"></a>"
   ]
  },
  {
   "cell_type": "code",
   "execution_count": null,
   "metadata": {},
   "outputs": [],
   "source": []
  }
 ],
 "metadata": {
  "kernelspec": {
   "display_name": "Python 3",
   "language": "python",
   "name": "python3"
  },
  "language_info": {
   "codemirror_mode": {
    "name": "ipython",
    "version": 3
   },
   "file_extension": ".py",
   "mimetype": "text/x-python",
   "name": "python",
   "nbconvert_exporter": "python",
   "pygments_lexer": "ipython3",
   "version": "3.7.4"
  }
 },
 "nbformat": 4,
 "nbformat_minor": 4
}
